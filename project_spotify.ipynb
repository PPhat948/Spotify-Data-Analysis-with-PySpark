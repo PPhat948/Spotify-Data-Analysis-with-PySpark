{
  "nbformat": 4,
  "nbformat_minor": 0,
  "metadata": {
    "colab": {
      "provenance": []
    },
    "kernelspec": {
      "name": "python3",
      "display_name": "Python 3"
    },
    "language_info": {
      "name": "python"
    }
  },
  "cells": [
    {
      "cell_type": "markdown",
      "source": [
        "# Import Libraries"
      ],
      "metadata": {
        "id": "X1WXYFb1FSpZ"
      }
    },
    {
      "cell_type": "code",
      "execution_count": null,
      "metadata": {
        "colab": {
          "base_uri": "https://localhost:8080/"
        },
        "id": "F89inP9SE0rs",
        "outputId": "36084707-914e-42f9-921c-a2d9de1a1ec7"
      },
      "outputs": [
        {
          "output_type": "stream",
          "name": "stdout",
          "text": [
            "Requirement already satisfied: pyspark in /usr/local/lib/python3.11/dist-packages (3.5.5)\n",
            "Requirement already satisfied: py4j==0.10.9.7 in /usr/local/lib/python3.11/dist-packages (from pyspark) (0.10.9.7)\n",
            "Collecting findspark\n",
            "  Downloading findspark-2.0.1-py2.py3-none-any.whl.metadata (352 bytes)\n",
            "Downloading findspark-2.0.1-py2.py3-none-any.whl (4.4 kB)\n",
            "Installing collected packages: findspark\n",
            "Successfully installed findspark-2.0.1\n"
          ]
        }
      ],
      "source": [
        "# Installing required packages\n",
        "!pip install pyspark\n",
        "!pip install findspark"
      ]
    },
    {
      "cell_type": "code",
      "source": [
        "from pyspark import SparkContext, SparkConf\n",
        "from pyspark.sql import SparkSession,SQLContext"
      ],
      "metadata": {
        "id": "vHz9MQfRE7oX"
      },
      "execution_count": null,
      "outputs": []
    },
    {
      "cell_type": "markdown",
      "source": [
        "# Create Spark Context"
      ],
      "metadata": {
        "id": "-qjDOUlhFUzV"
      }
    },
    {
      "cell_type": "code",
      "source": [
        "spark = SparkSession \\\n",
        "    .builder \\\n",
        "    .appName(\"ML_Classifications\") \\\n",
        "    .getOrCreate()\n",
        "\n"
      ],
      "metadata": {
        "id": "h8toU0E1E8ym"
      },
      "execution_count": null,
      "outputs": []
    },
    {
      "cell_type": "code",
      "source": [
        "sc = spark.sparkContext\n",
        "sqlContext = SQLContext(sc)"
      ],
      "metadata": {
        "colab": {
          "base_uri": "https://localhost:8080/"
        },
        "id": "YHNZDojUE-23",
        "outputId": "16576fd7-c4bb-4966-ac7a-dd6d039bd691"
      },
      "execution_count": null,
      "outputs": [
        {
          "output_type": "stream",
          "name": "stderr",
          "text": [
            "/usr/local/lib/python3.11/dist-packages/pyspark/sql/context.py:113: FutureWarning: Deprecated in 3.0.0. Use SparkSession.builder.getOrCreate() instead.\n",
            "  warnings.warn(\n"
          ]
        }
      ]
    },
    {
      "cell_type": "markdown",
      "source": [
        "# Open File"
      ],
      "metadata": {
        "id": "7Gv9WMY3FXQU"
      }
    },
    {
      "cell_type": "code",
      "source": [
        "from pyspark.sql.types import StructType, StructField, StringType, IntegerType, DoubleType\n",
        "\n",
        "spotify_schema = StructType([\n",
        "    StructField(\"id\", StringType(), True),\n",
        "    StructField(\"name\", StringType(), True),\n",
        "    StructField(\"artists\", StringType(), True),\n",
        "    StructField(\"duration_ms\", IntegerType(), True),\n",
        "    StructField(\"release_date\", StringType(), True),\n",
        "    StructField(\"year\", IntegerType(), True),\n",
        "    StructField(\"acousticness\", DoubleType(), True),\n",
        "    StructField(\"danceability\", DoubleType(), True),\n",
        "    StructField(\"energy\", DoubleType(), True),\n",
        "    StructField(\"instrumentalness\", DoubleType(), True),\n",
        "    StructField(\"liveness\", DoubleType(), True),\n",
        "    StructField(\"loudness\", DoubleType(), True),\n",
        "    StructField(\"speechiness\", DoubleType(), True),\n",
        "    StructField(\"tempo\", DoubleType(), True),\n",
        "    StructField(\"valence\", DoubleType(), True),\n",
        "    StructField(\"mode\", IntegerType(), True),\n",
        "    StructField(\"key\", IntegerType(), True),\n",
        "    StructField(\"popularity\", IntegerType(), True),\n",
        "    StructField(\"explicit\", IntegerType(), True),\n",
        "])\n"
      ],
      "metadata": {
        "id": "NomHAicuF5G0"
      },
      "execution_count": null,
      "outputs": []
    },
    {
      "cell_type": "code",
      "source": [
        "file='spotify-data.csv'\n",
        "df = spark.read.csv(file,header='true', schema=spotify_schema)"
      ],
      "metadata": {
        "id": "V5cpTX_TFHvf"
      },
      "execution_count": null,
      "outputs": []
    },
    {
      "cell_type": "code",
      "source": [
        "df.columns"
      ],
      "metadata": {
        "colab": {
          "base_uri": "https://localhost:8080/"
        },
        "id": "v8G30hpVFBBI",
        "outputId": "1610eb2f-9cef-47cb-f755-3b06a300de98"
      },
      "execution_count": null,
      "outputs": [
        {
          "output_type": "execute_result",
          "data": {
            "text/plain": [
              "['id',\n",
              " 'name',\n",
              " 'artists',\n",
              " 'duration_ms',\n",
              " 'release_date',\n",
              " 'year',\n",
              " 'acousticness',\n",
              " 'danceability',\n",
              " 'energy',\n",
              " 'instrumentalness',\n",
              " 'liveness',\n",
              " 'loudness',\n",
              " 'speechiness',\n",
              " 'tempo',\n",
              " 'valence',\n",
              " 'mode',\n",
              " 'key',\n",
              " 'popularity',\n",
              " 'explicit']"
            ]
          },
          "metadata": {},
          "execution_count": 7
        }
      ]
    },
    {
      "cell_type": "code",
      "source": [
        "df.printSchema()"
      ],
      "metadata": {
        "colab": {
          "base_uri": "https://localhost:8080/"
        },
        "id": "PWGm_pbaFeSh",
        "outputId": "3565dc36-fe6d-4786-9a85-c5408de79f28"
      },
      "execution_count": null,
      "outputs": [
        {
          "output_type": "stream",
          "name": "stdout",
          "text": [
            "root\n",
            " |-- id: string (nullable = true)\n",
            " |-- name: string (nullable = true)\n",
            " |-- artists: string (nullable = true)\n",
            " |-- duration_ms: integer (nullable = true)\n",
            " |-- release_date: string (nullable = true)\n",
            " |-- year: integer (nullable = true)\n",
            " |-- acousticness: double (nullable = true)\n",
            " |-- danceability: double (nullable = true)\n",
            " |-- energy: double (nullable = true)\n",
            " |-- instrumentalness: double (nullable = true)\n",
            " |-- liveness: double (nullable = true)\n",
            " |-- loudness: double (nullable = true)\n",
            " |-- speechiness: double (nullable = true)\n",
            " |-- tempo: double (nullable = true)\n",
            " |-- valence: double (nullable = true)\n",
            " |-- mode: integer (nullable = true)\n",
            " |-- key: integer (nullable = true)\n",
            " |-- popularity: integer (nullable = true)\n",
            " |-- explicit: integer (nullable = true)\n",
            "\n"
          ]
        }
      ]
    },
    {
      "cell_type": "code",
      "source": [
        "df.show()"
      ],
      "metadata": {
        "colab": {
          "base_uri": "https://localhost:8080/"
        },
        "id": "opbnFm4KFh2p",
        "outputId": "64b128a0-f58c-4a57-9340-c0af600438c5"
      },
      "execution_count": null,
      "outputs": [
        {
          "output_type": "stream",
          "name": "stdout",
          "text": [
            "+--------------------+--------------------+--------------------+-----------+------------+----+------------+------------+-------+----------------+--------+--------+-----------+-------+-------+----+---+----------+--------+\n",
            "|                  id|                name|             artists|duration_ms|release_date|year|acousticness|danceability| energy|instrumentalness|liveness|loudness|speechiness|  tempo|valence|mode|key|popularity|explicit|\n",
            "+--------------------+--------------------+--------------------+-----------+------------+----+------------+------------+-------+----------------+--------+--------+-----------+-------+-------+----+---+----------+--------+\n",
            "|6KbQ3uYMLKb5jDxLF...|Singende Bataillo...| ['Carl Woitschach']|     158648|        1928|1928|       0.995|       0.708|  0.195|           0.563|   0.151| -12.428|     0.0506|118.469|  0.779|   1| 10|         0|       0|\n",
            "|6KuQTIu1KoTTkLXKr...|Fantasiestücke, O...|['Robert Schumann...|     282133|        1928|1928|       0.994|       0.379| 0.0135|           0.901|  0.0763| -28.454|     0.0462| 83.972| 0.0767|   1|  8|         0|       0|\n",
            "|6L63VW0PibdM1HDSB...|Chapter 1.18 - Za...|['Seweryn Goszczy...|     104300|        1928|1928|       0.604|       0.749|   0.22|             0.0|   0.119| -19.924|      0.929|107.177|   0.88|   0|  5|         0|       0|\n",
            "|6M94FkXd15sOAOQYR...|Bebamos Juntos - ...|['Francisco Canaro']|     180760|     9/25/28|1928|       0.995|       0.781|   0.13|           0.887|   0.111| -14.734|     0.0926|108.003|   0.72|   0|  1|         0|       0|\n",
            "|6N6tiFZ9vLTSOIxkj...|Polonaise-Fantais...|['Frédéric Chopin...|     687733|        1928|1928|        0.99|        0.21|  0.204|           0.908|   0.098| -16.829|     0.0424| 62.149| 0.0693|   1| 11|         1|       0|\n",
            "|6NxAf7M8DNHOBTmEd...|Scherzo a capricc...|['Felix Mendelsso...|     352600|        1928|1928|       0.995|       0.424|   0.12|           0.911|  0.0915| -19.242|     0.0593| 63.521|  0.266|   0|  6|         0|       0|\n",
            "|6O0puPuyrxPjDTHDU...|Valse oubliée No....|['Franz Liszt', '...|     136627|        1928|1928|       0.956|       0.444|  0.197|           0.435|  0.0744| -17.226|       0.04| 80.495|  0.305|   1| 11|         0|       0|\n",
            "|6OJjveoYwJdIt76y0...| Per aspera ad astra| ['Carl Woitschach']|     153967|        1928|1928|       0.988|       0.555|  0.421|           0.836|   0.105|  -9.878|     0.0474| 123.31|  0.857|   1|  1|         0|       0|\n",
            "|6OaJ8Bh7lsBeYoBmw...|Moneda Corriente ...|['Francisco Canar...|     162493|     10/3/28|1928|       0.995|       0.683|  0.207|           0.206|   0.337|  -9.801|      0.127|119.833|  0.493|   0|  9|         0|       0|\n",
            "|6PrZexNb16cabXR8Q...|Chapter 1.3 - Zam...|['Seweryn Goszczy...|     111600|        1928|1928|       0.846|       0.674|  0.205|             0.0|    0.17| -20.119|      0.954| 81.249|  0.759|   1|  9|         0|       0|\n",
            "|6QBInZBkQNIQYU9gG...|Piano Sonata No. ...|['Sergei Rachmani...|     590293|        1928|1928|       0.994|       0.376| 0.0719|           0.883|   0.196| -21.849|     0.0352| 141.39| 0.0393|   0| 10|         0|       0|\n",
            "|6QIONtzbQCbnmWNwn...|Piano Sonata No. ...|['Frédéric Chopin...|      85133|        1928|1928|       0.989|        0.17| 0.0823|           0.911|  0.0962| -30.107|     0.0317| 85.989|  0.346|   0| 10|         1|       0|\n",
            "|6QgdUySTRGVkNo3Kw...|Piano Sonata in E...|['Samuel Barber',...|     338333|        1928|1928|        0.99|       0.359| 0.0435|           0.899|   0.109| -20.858|     0.0424| 96.645|  0.042|   1|  7|         0|       0|\n",
            "|6RvSNoCPBZeTR2LyG...|Nachtstücke, Op. ...|['Robert Schumann...|     167333|        1928|1928|       0.992|       0.311| 0.0107|           0.883|  0.0954| -35.648|     0.0556|  78.98|  0.216|   1|  5|         0|       0|\n",
            "|6Rwn56jcC0TdGQzbR...|Symphony No. 5 in...|['Ludwig van Beet...|     276563|      1/1/28|1928|       0.977|       0.335|  0.105|            0.84|   0.231| -16.049|     0.0716| 80.204|  0.406|   0|  5|         0|       0|\n",
            "|6Sdpmree8xpGWaedA...|A Shropshire Lad:...|['George Butterwo...|     184840|        1928|1928|       0.991|       0.319|0.00593|         6.35E-5|  0.0691| -25.789|      0.051| 79.831|  0.169|   0|  7|         0|       0|\n",
            "|6T0mZB7p3qzOifdXZ...|Sonata No. 3, Op....|['Alexander Scria...|     326067|        1928|1928|       0.996|       0.319|  0.155|           0.917|   0.126| -18.728|      0.036| 66.947| 0.0488|   1|  4|         0|       0|\n",
            "|6TFuAErGpJ9FpxQQ1...|Invocación al Tan...|['Francisco Canar...|     167107|     9/16/28|1928|       0.994|       0.787|  0.156|           0.659|    0.11| -14.056|      0.157|117.167|  0.849|   0|  4|         0|       0|\n",
            "|6UUfiNT82MWBNnmsE...| Where the Bee Sucks|['Thomas Arne', '...|     122533|        1928|1928|       0.993|       0.569|   0.15|          0.0015|   0.106| -15.238|     0.0474|  76.93|  0.596|   1|  5|         0|       0|\n",
            "|6Ukl7n0q3Cjd0Og8u...|Tendrás Que Llora...|['Francisco Canaro']|     173707|     9/17/28|1928|       0.992|       0.763|  0.132|          0.0693|   0.112| -13.002|     0.0886|111.679|  0.832|   1|  4|         0|       0|\n",
            "+--------------------+--------------------+--------------------+-----------+------------+----+------------+------------+-------+----------------+--------+--------+-----------+-------+-------+----+---+----------+--------+\n",
            "only showing top 20 rows\n",
            "\n"
          ]
        }
      ]
    },
    {
      "cell_type": "code",
      "source": [
        "df.show()"
      ],
      "metadata": {
        "colab": {
          "base_uri": "https://localhost:8080/"
        },
        "id": "ILMN6LTHHLI1",
        "outputId": "53afea1b-46f8-4b78-f5bd-f36cf5753d07"
      },
      "execution_count": null,
      "outputs": [
        {
          "output_type": "stream",
          "name": "stdout",
          "text": [
            "+--------------------+--------------------+--------------------+-----------+------------+----+------------+------------+-------+----------------+--------+--------+-----------+-------+-------+----+---+----------+--------+\n",
            "|                  id|                name|             artists|duration_ms|release_date|year|acousticness|danceability| energy|instrumentalness|liveness|loudness|speechiness|  tempo|valence|mode|key|popularity|explicit|\n",
            "+--------------------+--------------------+--------------------+-----------+------------+----+------------+------------+-------+----------------+--------+--------+-----------+-------+-------+----+---+----------+--------+\n",
            "|6KbQ3uYMLKb5jDxLF...|Singende Bataillo...| ['Carl Woitschach']|     158648|        1928|1928|       0.995|       0.708|  0.195|           0.563|   0.151| -12.428|     0.0506|118.469|  0.779|   1| 10|         0|       0|\n",
            "|6KuQTIu1KoTTkLXKr...|Fantasiestücke, O...|['Robert Schumann...|     282133|        1928|1928|       0.994|       0.379| 0.0135|           0.901|  0.0763| -28.454|     0.0462| 83.972| 0.0767|   1|  8|         0|       0|\n",
            "|6L63VW0PibdM1HDSB...|Chapter 1.18 - Za...|['Seweryn Goszczy...|     104300|        1928|1928|       0.604|       0.749|   0.22|             0.0|   0.119| -19.924|      0.929|107.177|   0.88|   0|  5|         0|       0|\n",
            "|6M94FkXd15sOAOQYR...|Bebamos Juntos - ...|['Francisco Canaro']|     180760|     9/25/28|1928|       0.995|       0.781|   0.13|           0.887|   0.111| -14.734|     0.0926|108.003|   0.72|   0|  1|         0|       0|\n",
            "|6N6tiFZ9vLTSOIxkj...|Polonaise-Fantais...|['Frédéric Chopin...|     687733|        1928|1928|        0.99|        0.21|  0.204|           0.908|   0.098| -16.829|     0.0424| 62.149| 0.0693|   1| 11|         1|       0|\n",
            "|6NxAf7M8DNHOBTmEd...|Scherzo a capricc...|['Felix Mendelsso...|     352600|        1928|1928|       0.995|       0.424|   0.12|           0.911|  0.0915| -19.242|     0.0593| 63.521|  0.266|   0|  6|         0|       0|\n",
            "|6O0puPuyrxPjDTHDU...|Valse oubliée No....|['Franz Liszt', '...|     136627|        1928|1928|       0.956|       0.444|  0.197|           0.435|  0.0744| -17.226|       0.04| 80.495|  0.305|   1| 11|         0|       0|\n",
            "|6OJjveoYwJdIt76y0...| Per aspera ad astra| ['Carl Woitschach']|     153967|        1928|1928|       0.988|       0.555|  0.421|           0.836|   0.105|  -9.878|     0.0474| 123.31|  0.857|   1|  1|         0|       0|\n",
            "|6OaJ8Bh7lsBeYoBmw...|Moneda Corriente ...|['Francisco Canar...|     162493|     10/3/28|1928|       0.995|       0.683|  0.207|           0.206|   0.337|  -9.801|      0.127|119.833|  0.493|   0|  9|         0|       0|\n",
            "|6PrZexNb16cabXR8Q...|Chapter 1.3 - Zam...|['Seweryn Goszczy...|     111600|        1928|1928|       0.846|       0.674|  0.205|             0.0|    0.17| -20.119|      0.954| 81.249|  0.759|   1|  9|         0|       0|\n",
            "|6QBInZBkQNIQYU9gG...|Piano Sonata No. ...|['Sergei Rachmani...|     590293|        1928|1928|       0.994|       0.376| 0.0719|           0.883|   0.196| -21.849|     0.0352| 141.39| 0.0393|   0| 10|         0|       0|\n",
            "|6QIONtzbQCbnmWNwn...|Piano Sonata No. ...|['Frédéric Chopin...|      85133|        1928|1928|       0.989|        0.17| 0.0823|           0.911|  0.0962| -30.107|     0.0317| 85.989|  0.346|   0| 10|         1|       0|\n",
            "|6QgdUySTRGVkNo3Kw...|Piano Sonata in E...|['Samuel Barber',...|     338333|        1928|1928|        0.99|       0.359| 0.0435|           0.899|   0.109| -20.858|     0.0424| 96.645|  0.042|   1|  7|         0|       0|\n",
            "|6RvSNoCPBZeTR2LyG...|Nachtstücke, Op. ...|['Robert Schumann...|     167333|        1928|1928|       0.992|       0.311| 0.0107|           0.883|  0.0954| -35.648|     0.0556|  78.98|  0.216|   1|  5|         0|       0|\n",
            "|6Rwn56jcC0TdGQzbR...|Symphony No. 5 in...|['Ludwig van Beet...|     276563|      1/1/28|1928|       0.977|       0.335|  0.105|            0.84|   0.231| -16.049|     0.0716| 80.204|  0.406|   0|  5|         0|       0|\n",
            "|6Sdpmree8xpGWaedA...|A Shropshire Lad:...|['George Butterwo...|     184840|        1928|1928|       0.991|       0.319|0.00593|         6.35E-5|  0.0691| -25.789|      0.051| 79.831|  0.169|   0|  7|         0|       0|\n",
            "|6T0mZB7p3qzOifdXZ...|Sonata No. 3, Op....|['Alexander Scria...|     326067|        1928|1928|       0.996|       0.319|  0.155|           0.917|   0.126| -18.728|      0.036| 66.947| 0.0488|   1|  4|         0|       0|\n",
            "|6TFuAErGpJ9FpxQQ1...|Invocación al Tan...|['Francisco Canar...|     167107|     9/16/28|1928|       0.994|       0.787|  0.156|           0.659|    0.11| -14.056|      0.157|117.167|  0.849|   0|  4|         0|       0|\n",
            "|6UUfiNT82MWBNnmsE...| Where the Bee Sucks|['Thomas Arne', '...|     122533|        1928|1928|       0.993|       0.569|   0.15|          0.0015|   0.106| -15.238|     0.0474|  76.93|  0.596|   1|  5|         0|       0|\n",
            "|6Ukl7n0q3Cjd0Og8u...|Tendrás Que Llora...|['Francisco Canaro']|     173707|     9/17/28|1928|       0.992|       0.763|  0.132|          0.0693|   0.112| -13.002|     0.0886|111.679|  0.832|   1|  4|         0|       0|\n",
            "+--------------------+--------------------+--------------------+-----------+------------+----+------------+------------+-------+----------------+--------+--------+-----------+-------+-------+----+---+----------+--------+\n",
            "only showing top 20 rows\n",
            "\n"
          ]
        }
      ]
    },
    {
      "cell_type": "code",
      "source": [
        "df.describe().toPandas().transpose()"
      ],
      "metadata": {
        "colab": {
          "base_uri": "https://localhost:8080/",
          "height": 677
        },
        "id": "iQ0XHzDKGDPT",
        "outputId": "009f54fe-118e-4faf-c435-a35f415be932"
      },
      "execution_count": null,
      "outputs": [
        {
          "output_type": "execute_result",
          "data": {
            "text/plain": [
              "                       0                    1                   2  \\\n",
              "summary            count                 mean              stddev   \n",
              "id                169909                 None                None   \n",
              "name              169909             Infinity                 NaN   \n",
              "artists           169909                 None                None   \n",
              "duration_ms       168462    231288.1418480132   120689.8977337405   \n",
              "release_date      169909     6193.66778670272    42244.4328262541   \n",
              "year              169217    2364.329204512549  10908.368278421962   \n",
              "acousticness      169624   197.16453702548884  7127.8832830763395   \n",
              "danceability      169771   111.97785567892575   5511.097855467194   \n",
              "energy            169839    70.88351548936565  4321.7813953980385   \n",
              "instrumentalness  169865   34.049043040441134   3260.780679465753   \n",
              "liveness          169886   18.160596771242012  2990.6417375221586   \n",
              "loudness          169901   3.8003751276916033  2140.9559210810644   \n",
              "speechiness       169901    7.298684890418929  1472.1847479234784   \n",
              "tempo             169905   118.27526857282349   624.7157906911564   \n",
              "valence           169907   1.1025985730759702  13.978222557664644   \n",
              "mode              168471   0.7313959079010631   6.719617290448184   \n",
              "key               169295    5.181192592811365  3.5210541367043127   \n",
              "popularity        169583    34.72598668498611  1308.3917647729888   \n",
              "explicit          169722  0.15230789172882714  1.6050060608312047   \n",
              "\n",
              "                                                 3  \\\n",
              "summary                                        min   \n",
              "id                          000G1xMMuwxNHmwVsBdtj1   \n",
              "name                     !Que Vida! - Mono Version   \n",
              "artists                     \"\"Cool\"\" (Allegretto)\"   \n",
              "duration_ms                                   5108   \n",
              "release_date       \"\"'Legally Blonde' Ensemble\"\"]\"   \n",
              "year                                          1921   \n",
              "acousticness                                   0.0   \n",
              "danceability                                   0.0   \n",
              "energy                                         0.0   \n",
              "instrumentalness                               0.0   \n",
              "liveness                                       0.0   \n",
              "loudness                                     -60.0   \n",
              "speechiness                                -49.287   \n",
              "tempo                                      -41.957   \n",
              "valence                                     -35.69   \n",
              "mode                                             0   \n",
              "key                                              0   \n",
              "popularity                                       0   \n",
              "explicit                                         0   \n",
              "\n",
              "                                                                  4  \n",
              "summary                                                         max  \n",
              "id                                           7zzuPsjj9L3M7ikqGmjN0D  \n",
              "name                            화려하지 않은 고백 Confession Is Not Flashy  \n",
              "artists                                                      ['黑豹']  \n",
              "duration_ms                                                 5403500  \n",
              "release_date      ['Wolfgang Amadeus Mozart', 'Walter Franck', '...  \n",
              "year                                                         710400  \n",
              "acousticness                                               706400.0  \n",
              "danceability                                               668333.0  \n",
              "energy                                                     503320.0  \n",
              "instrumentalness                                           617626.0  \n",
              "liveness                                                   986987.0  \n",
              "loudness                                                   701187.0  \n",
              "speechiness                                                374547.0  \n",
              "tempo                                                      226240.0  \n",
              "valence                                                      2011.0  \n",
              "mode                                                           1951  \n",
              "key                                                              11  \n",
              "popularity                                                   538760  \n",
              "explicit                                                         74  "
            ],
            "text/html": [
              "\n",
              "  <div id=\"df-cf81787c-a7d5-4e6a-8e42-59ac1b565f97\" class=\"colab-df-container\">\n",
              "    <div>\n",
              "<style scoped>\n",
              "    .dataframe tbody tr th:only-of-type {\n",
              "        vertical-align: middle;\n",
              "    }\n",
              "\n",
              "    .dataframe tbody tr th {\n",
              "        vertical-align: top;\n",
              "    }\n",
              "\n",
              "    .dataframe thead th {\n",
              "        text-align: right;\n",
              "    }\n",
              "</style>\n",
              "<table border=\"1\" class=\"dataframe\">\n",
              "  <thead>\n",
              "    <tr style=\"text-align: right;\">\n",
              "      <th></th>\n",
              "      <th>0</th>\n",
              "      <th>1</th>\n",
              "      <th>2</th>\n",
              "      <th>3</th>\n",
              "      <th>4</th>\n",
              "    </tr>\n",
              "  </thead>\n",
              "  <tbody>\n",
              "    <tr>\n",
              "      <th>summary</th>\n",
              "      <td>count</td>\n",
              "      <td>mean</td>\n",
              "      <td>stddev</td>\n",
              "      <td>min</td>\n",
              "      <td>max</td>\n",
              "    </tr>\n",
              "    <tr>\n",
              "      <th>id</th>\n",
              "      <td>169909</td>\n",
              "      <td>None</td>\n",
              "      <td>None</td>\n",
              "      <td>000G1xMMuwxNHmwVsBdtj1</td>\n",
              "      <td>7zzuPsjj9L3M7ikqGmjN0D</td>\n",
              "    </tr>\n",
              "    <tr>\n",
              "      <th>name</th>\n",
              "      <td>169909</td>\n",
              "      <td>Infinity</td>\n",
              "      <td>NaN</td>\n",
              "      <td>!Que Vida! - Mono Version</td>\n",
              "      <td>화려하지 않은 고백 Confession Is Not Flashy</td>\n",
              "    </tr>\n",
              "    <tr>\n",
              "      <th>artists</th>\n",
              "      <td>169909</td>\n",
              "      <td>None</td>\n",
              "      <td>None</td>\n",
              "      <td>\"\"Cool\"\" (Allegretto)\"</td>\n",
              "      <td>['黑豹']</td>\n",
              "    </tr>\n",
              "    <tr>\n",
              "      <th>duration_ms</th>\n",
              "      <td>168462</td>\n",
              "      <td>231288.1418480132</td>\n",
              "      <td>120689.8977337405</td>\n",
              "      <td>5108</td>\n",
              "      <td>5403500</td>\n",
              "    </tr>\n",
              "    <tr>\n",
              "      <th>release_date</th>\n",
              "      <td>169909</td>\n",
              "      <td>6193.66778670272</td>\n",
              "      <td>42244.4328262541</td>\n",
              "      <td>\"\"'Legally Blonde' Ensemble\"\"]\"</td>\n",
              "      <td>['Wolfgang Amadeus Mozart', 'Walter Franck', '...</td>\n",
              "    </tr>\n",
              "    <tr>\n",
              "      <th>year</th>\n",
              "      <td>169217</td>\n",
              "      <td>2364.329204512549</td>\n",
              "      <td>10908.368278421962</td>\n",
              "      <td>1921</td>\n",
              "      <td>710400</td>\n",
              "    </tr>\n",
              "    <tr>\n",
              "      <th>acousticness</th>\n",
              "      <td>169624</td>\n",
              "      <td>197.16453702548884</td>\n",
              "      <td>7127.8832830763395</td>\n",
              "      <td>0.0</td>\n",
              "      <td>706400.0</td>\n",
              "    </tr>\n",
              "    <tr>\n",
              "      <th>danceability</th>\n",
              "      <td>169771</td>\n",
              "      <td>111.97785567892575</td>\n",
              "      <td>5511.097855467194</td>\n",
              "      <td>0.0</td>\n",
              "      <td>668333.0</td>\n",
              "    </tr>\n",
              "    <tr>\n",
              "      <th>energy</th>\n",
              "      <td>169839</td>\n",
              "      <td>70.88351548936565</td>\n",
              "      <td>4321.7813953980385</td>\n",
              "      <td>0.0</td>\n",
              "      <td>503320.0</td>\n",
              "    </tr>\n",
              "    <tr>\n",
              "      <th>instrumentalness</th>\n",
              "      <td>169865</td>\n",
              "      <td>34.049043040441134</td>\n",
              "      <td>3260.780679465753</td>\n",
              "      <td>0.0</td>\n",
              "      <td>617626.0</td>\n",
              "    </tr>\n",
              "    <tr>\n",
              "      <th>liveness</th>\n",
              "      <td>169886</td>\n",
              "      <td>18.160596771242012</td>\n",
              "      <td>2990.6417375221586</td>\n",
              "      <td>0.0</td>\n",
              "      <td>986987.0</td>\n",
              "    </tr>\n",
              "    <tr>\n",
              "      <th>loudness</th>\n",
              "      <td>169901</td>\n",
              "      <td>3.8003751276916033</td>\n",
              "      <td>2140.9559210810644</td>\n",
              "      <td>-60.0</td>\n",
              "      <td>701187.0</td>\n",
              "    </tr>\n",
              "    <tr>\n",
              "      <th>speechiness</th>\n",
              "      <td>169901</td>\n",
              "      <td>7.298684890418929</td>\n",
              "      <td>1472.1847479234784</td>\n",
              "      <td>-49.287</td>\n",
              "      <td>374547.0</td>\n",
              "    </tr>\n",
              "    <tr>\n",
              "      <th>tempo</th>\n",
              "      <td>169905</td>\n",
              "      <td>118.27526857282349</td>\n",
              "      <td>624.7157906911564</td>\n",
              "      <td>-41.957</td>\n",
              "      <td>226240.0</td>\n",
              "    </tr>\n",
              "    <tr>\n",
              "      <th>valence</th>\n",
              "      <td>169907</td>\n",
              "      <td>1.1025985730759702</td>\n",
              "      <td>13.978222557664644</td>\n",
              "      <td>-35.69</td>\n",
              "      <td>2011.0</td>\n",
              "    </tr>\n",
              "    <tr>\n",
              "      <th>mode</th>\n",
              "      <td>168471</td>\n",
              "      <td>0.7313959079010631</td>\n",
              "      <td>6.719617290448184</td>\n",
              "      <td>0</td>\n",
              "      <td>1951</td>\n",
              "    </tr>\n",
              "    <tr>\n",
              "      <th>key</th>\n",
              "      <td>169295</td>\n",
              "      <td>5.181192592811365</td>\n",
              "      <td>3.5210541367043127</td>\n",
              "      <td>0</td>\n",
              "      <td>11</td>\n",
              "    </tr>\n",
              "    <tr>\n",
              "      <th>popularity</th>\n",
              "      <td>169583</td>\n",
              "      <td>34.72598668498611</td>\n",
              "      <td>1308.3917647729888</td>\n",
              "      <td>0</td>\n",
              "      <td>538760</td>\n",
              "    </tr>\n",
              "    <tr>\n",
              "      <th>explicit</th>\n",
              "      <td>169722</td>\n",
              "      <td>0.15230789172882714</td>\n",
              "      <td>1.6050060608312047</td>\n",
              "      <td>0</td>\n",
              "      <td>74</td>\n",
              "    </tr>\n",
              "  </tbody>\n",
              "</table>\n",
              "</div>\n",
              "    <div class=\"colab-df-buttons\">\n",
              "\n",
              "  <div class=\"colab-df-container\">\n",
              "    <button class=\"colab-df-convert\" onclick=\"convertToInteractive('df-cf81787c-a7d5-4e6a-8e42-59ac1b565f97')\"\n",
              "            title=\"Convert this dataframe to an interactive table.\"\n",
              "            style=\"display:none;\">\n",
              "\n",
              "  <svg xmlns=\"http://www.w3.org/2000/svg\" height=\"24px\" viewBox=\"0 -960 960 960\">\n",
              "    <path d=\"M120-120v-720h720v720H120Zm60-500h600v-160H180v160Zm220 220h160v-160H400v160Zm0 220h160v-160H400v160ZM180-400h160v-160H180v160Zm440 0h160v-160H620v160ZM180-180h160v-160H180v160Zm440 0h160v-160H620v160Z\"/>\n",
              "  </svg>\n",
              "    </button>\n",
              "\n",
              "  <style>\n",
              "    .colab-df-container {\n",
              "      display:flex;\n",
              "      gap: 12px;\n",
              "    }\n",
              "\n",
              "    .colab-df-convert {\n",
              "      background-color: #E8F0FE;\n",
              "      border: none;\n",
              "      border-radius: 50%;\n",
              "      cursor: pointer;\n",
              "      display: none;\n",
              "      fill: #1967D2;\n",
              "      height: 32px;\n",
              "      padding: 0 0 0 0;\n",
              "      width: 32px;\n",
              "    }\n",
              "\n",
              "    .colab-df-convert:hover {\n",
              "      background-color: #E2EBFA;\n",
              "      box-shadow: 0px 1px 2px rgba(60, 64, 67, 0.3), 0px 1px 3px 1px rgba(60, 64, 67, 0.15);\n",
              "      fill: #174EA6;\n",
              "    }\n",
              "\n",
              "    .colab-df-buttons div {\n",
              "      margin-bottom: 4px;\n",
              "    }\n",
              "\n",
              "    [theme=dark] .colab-df-convert {\n",
              "      background-color: #3B4455;\n",
              "      fill: #D2E3FC;\n",
              "    }\n",
              "\n",
              "    [theme=dark] .colab-df-convert:hover {\n",
              "      background-color: #434B5C;\n",
              "      box-shadow: 0px 1px 3px 1px rgba(0, 0, 0, 0.15);\n",
              "      filter: drop-shadow(0px 1px 2px rgba(0, 0, 0, 0.3));\n",
              "      fill: #FFFFFF;\n",
              "    }\n",
              "  </style>\n",
              "\n",
              "    <script>\n",
              "      const buttonEl =\n",
              "        document.querySelector('#df-cf81787c-a7d5-4e6a-8e42-59ac1b565f97 button.colab-df-convert');\n",
              "      buttonEl.style.display =\n",
              "        google.colab.kernel.accessAllowed ? 'block' : 'none';\n",
              "\n",
              "      async function convertToInteractive(key) {\n",
              "        const element = document.querySelector('#df-cf81787c-a7d5-4e6a-8e42-59ac1b565f97');\n",
              "        const dataTable =\n",
              "          await google.colab.kernel.invokeFunction('convertToInteractive',\n",
              "                                                    [key], {});\n",
              "        if (!dataTable) return;\n",
              "\n",
              "        const docLinkHtml = 'Like what you see? Visit the ' +\n",
              "          '<a target=\"_blank\" href=https://colab.research.google.com/notebooks/data_table.ipynb>data table notebook</a>'\n",
              "          + ' to learn more about interactive tables.';\n",
              "        element.innerHTML = '';\n",
              "        dataTable['output_type'] = 'display_data';\n",
              "        await google.colab.output.renderOutput(dataTable, element);\n",
              "        const docLink = document.createElement('div');\n",
              "        docLink.innerHTML = docLinkHtml;\n",
              "        element.appendChild(docLink);\n",
              "      }\n",
              "    </script>\n",
              "  </div>\n",
              "\n",
              "\n",
              "    <div id=\"df-675203ea-3df8-40c9-a89a-bba213ed2edf\">\n",
              "      <button class=\"colab-df-quickchart\" onclick=\"quickchart('df-675203ea-3df8-40c9-a89a-bba213ed2edf')\"\n",
              "                title=\"Suggest charts\"\n",
              "                style=\"display:none;\">\n",
              "\n",
              "<svg xmlns=\"http://www.w3.org/2000/svg\" height=\"24px\"viewBox=\"0 0 24 24\"\n",
              "     width=\"24px\">\n",
              "    <g>\n",
              "        <path d=\"M19 3H5c-1.1 0-2 .9-2 2v14c0 1.1.9 2 2 2h14c1.1 0 2-.9 2-2V5c0-1.1-.9-2-2-2zM9 17H7v-7h2v7zm4 0h-2V7h2v10zm4 0h-2v-4h2v4z\"/>\n",
              "    </g>\n",
              "</svg>\n",
              "      </button>\n",
              "\n",
              "<style>\n",
              "  .colab-df-quickchart {\n",
              "      --bg-color: #E8F0FE;\n",
              "      --fill-color: #1967D2;\n",
              "      --hover-bg-color: #E2EBFA;\n",
              "      --hover-fill-color: #174EA6;\n",
              "      --disabled-fill-color: #AAA;\n",
              "      --disabled-bg-color: #DDD;\n",
              "  }\n",
              "\n",
              "  [theme=dark] .colab-df-quickchart {\n",
              "      --bg-color: #3B4455;\n",
              "      --fill-color: #D2E3FC;\n",
              "      --hover-bg-color: #434B5C;\n",
              "      --hover-fill-color: #FFFFFF;\n",
              "      --disabled-bg-color: #3B4455;\n",
              "      --disabled-fill-color: #666;\n",
              "  }\n",
              "\n",
              "  .colab-df-quickchart {\n",
              "    background-color: var(--bg-color);\n",
              "    border: none;\n",
              "    border-radius: 50%;\n",
              "    cursor: pointer;\n",
              "    display: none;\n",
              "    fill: var(--fill-color);\n",
              "    height: 32px;\n",
              "    padding: 0;\n",
              "    width: 32px;\n",
              "  }\n",
              "\n",
              "  .colab-df-quickchart:hover {\n",
              "    background-color: var(--hover-bg-color);\n",
              "    box-shadow: 0 1px 2px rgba(60, 64, 67, 0.3), 0 1px 3px 1px rgba(60, 64, 67, 0.15);\n",
              "    fill: var(--button-hover-fill-color);\n",
              "  }\n",
              "\n",
              "  .colab-df-quickchart-complete:disabled,\n",
              "  .colab-df-quickchart-complete:disabled:hover {\n",
              "    background-color: var(--disabled-bg-color);\n",
              "    fill: var(--disabled-fill-color);\n",
              "    box-shadow: none;\n",
              "  }\n",
              "\n",
              "  .colab-df-spinner {\n",
              "    border: 2px solid var(--fill-color);\n",
              "    border-color: transparent;\n",
              "    border-bottom-color: var(--fill-color);\n",
              "    animation:\n",
              "      spin 1s steps(1) infinite;\n",
              "  }\n",
              "\n",
              "  @keyframes spin {\n",
              "    0% {\n",
              "      border-color: transparent;\n",
              "      border-bottom-color: var(--fill-color);\n",
              "      border-left-color: var(--fill-color);\n",
              "    }\n",
              "    20% {\n",
              "      border-color: transparent;\n",
              "      border-left-color: var(--fill-color);\n",
              "      border-top-color: var(--fill-color);\n",
              "    }\n",
              "    30% {\n",
              "      border-color: transparent;\n",
              "      border-left-color: var(--fill-color);\n",
              "      border-top-color: var(--fill-color);\n",
              "      border-right-color: var(--fill-color);\n",
              "    }\n",
              "    40% {\n",
              "      border-color: transparent;\n",
              "      border-right-color: var(--fill-color);\n",
              "      border-top-color: var(--fill-color);\n",
              "    }\n",
              "    60% {\n",
              "      border-color: transparent;\n",
              "      border-right-color: var(--fill-color);\n",
              "    }\n",
              "    80% {\n",
              "      border-color: transparent;\n",
              "      border-right-color: var(--fill-color);\n",
              "      border-bottom-color: var(--fill-color);\n",
              "    }\n",
              "    90% {\n",
              "      border-color: transparent;\n",
              "      border-bottom-color: var(--fill-color);\n",
              "    }\n",
              "  }\n",
              "</style>\n",
              "\n",
              "      <script>\n",
              "        async function quickchart(key) {\n",
              "          const quickchartButtonEl =\n",
              "            document.querySelector('#' + key + ' button');\n",
              "          quickchartButtonEl.disabled = true;  // To prevent multiple clicks.\n",
              "          quickchartButtonEl.classList.add('colab-df-spinner');\n",
              "          try {\n",
              "            const charts = await google.colab.kernel.invokeFunction(\n",
              "                'suggestCharts', [key], {});\n",
              "          } catch (error) {\n",
              "            console.error('Error during call to suggestCharts:', error);\n",
              "          }\n",
              "          quickchartButtonEl.classList.remove('colab-df-spinner');\n",
              "          quickchartButtonEl.classList.add('colab-df-quickchart-complete');\n",
              "        }\n",
              "        (() => {\n",
              "          let quickchartButtonEl =\n",
              "            document.querySelector('#df-675203ea-3df8-40c9-a89a-bba213ed2edf button');\n",
              "          quickchartButtonEl.style.display =\n",
              "            google.colab.kernel.accessAllowed ? 'block' : 'none';\n",
              "        })();\n",
              "      </script>\n",
              "    </div>\n",
              "\n",
              "    </div>\n",
              "  </div>\n"
            ],
            "application/vnd.google.colaboratory.intrinsic+json": {
              "type": "dataframe",
              "summary": "{\n  \"name\": \"df\",\n  \"rows\": 20,\n  \"fields\": [\n    {\n      \"column\": 0,\n      \"properties\": {\n        \"dtype\": \"string\",\n        \"num_unique_values\": 16,\n        \"samples\": [\n          \"count\",\n          \"169909\",\n          \"169771\"\n        ],\n        \"semantic_type\": \"\",\n        \"description\": \"\"\n      }\n    },\n    {\n      \"column\": 1,\n      \"properties\": {\n        \"dtype\": \"string\",\n        \"num_unique_values\": 18,\n        \"samples\": [\n          \"mean\",\n          \"Infinity\",\n          \"34.049043040441134\"\n        ],\n        \"semantic_type\": \"\",\n        \"description\": \"\"\n      }\n    },\n    {\n      \"column\": 2,\n      \"properties\": {\n        \"dtype\": \"string\",\n        \"num_unique_values\": 18,\n        \"samples\": [\n          \"stddev\",\n          \"NaN\",\n          \"3260.780679465753\"\n        ],\n        \"semantic_type\": \"\",\n        \"description\": \"\"\n      }\n    },\n    {\n      \"column\": 3,\n      \"properties\": {\n        \"dtype\": \"string\",\n        \"num_unique_values\": 13,\n        \"samples\": [\n          \"-35.69\",\n          \"-49.287\",\n          \"min\"\n        ],\n        \"semantic_type\": \"\",\n        \"description\": \"\"\n      }\n    },\n    {\n      \"column\": 4,\n      \"properties\": {\n        \"dtype\": \"string\",\n        \"num_unique_values\": 20,\n        \"samples\": [\n          \"max\",\n          \"11\",\n          \"2011.0\"\n        ],\n        \"semantic_type\": \"\",\n        \"description\": \"\"\n      }\n    }\n  ]\n}"
            }
          },
          "metadata": {},
          "execution_count": 11
        }
      ]
    },
    {
      "cell_type": "markdown",
      "source": [
        "# Data Cleansing"
      ],
      "metadata": {
        "id": "BpYjJxRhKIX6"
      }
    },
    {
      "cell_type": "markdown",
      "source": [
        "## Drop Null value"
      ],
      "metadata": {
        "id": "d3X0LIz5HR_1"
      }
    },
    {
      "cell_type": "code",
      "source": [
        "df.count()"
      ],
      "metadata": {
        "colab": {
          "base_uri": "https://localhost:8080/"
        },
        "id": "WCfXzqIp4yq1",
        "outputId": "7a556812-bca8-442f-ccbc-c57bfcc745aa"
      },
      "execution_count": null,
      "outputs": [
        {
          "output_type": "execute_result",
          "data": {
            "text/plain": [
              "169909"
            ]
          },
          "metadata": {},
          "execution_count": 12
        }
      ]
    },
    {
      "cell_type": "code",
      "source": [
        "from pyspark.sql.functions import col, sum\n",
        "\n",
        "null_counts = df.select([sum(col(c).isNull().cast(\"int\")).alias(c) for c in df.columns])\n",
        "null_counts.show()\n"
      ],
      "metadata": {
        "colab": {
          "base_uri": "https://localhost:8080/"
        },
        "id": "_0wXAgQkGS3S",
        "outputId": "a4e0b56d-ffd4-44ca-acd7-10cb9afe1db9"
      },
      "execution_count": null,
      "outputs": [
        {
          "output_type": "stream",
          "name": "stdout",
          "text": [
            "+---+----+-------+-----------+------------+----+------------+------------+------+----------------+--------+--------+-----------+-----+-------+----+---+----------+--------+\n",
            "| id|name|artists|duration_ms|release_date|year|acousticness|danceability|energy|instrumentalness|liveness|loudness|speechiness|tempo|valence|mode|key|popularity|explicit|\n",
            "+---+----+-------+-----------+------------+----+------------+------------+------+----------------+--------+--------+-----------+-----+-------+----+---+----------+--------+\n",
            "|  0|   0|      0|       1447|           0| 692|         285|         138|    70|              44|      23|       8|          8|    4|      2|1438|614|       326|     187|\n",
            "+---+----+-------+-----------+------------+----+------------+------------+------+----------------+--------+--------+-----------+-----+-------+----+---+----------+--------+\n",
            "\n"
          ]
        }
      ]
    },
    {
      "cell_type": "code",
      "source": [
        "df = df.dropna()"
      ],
      "metadata": {
        "id": "VrAAxxbMG6q_"
      },
      "execution_count": null,
      "outputs": []
    },
    {
      "cell_type": "code",
      "source": [
        "#No. of column after drop null\n",
        "df.count()"
      ],
      "metadata": {
        "colab": {
          "base_uri": "https://localhost:8080/"
        },
        "id": "uHoStZ3qHDeM",
        "outputId": "20e0ebbc-132e-4574-efc1-e8a6c075ee1c"
      },
      "execution_count": null,
      "outputs": [
        {
          "output_type": "execute_result",
          "data": {
            "text/plain": [
              "168462"
            ]
          },
          "metadata": {},
          "execution_count": 17
        }
      ]
    },
    {
      "cell_type": "markdown",
      "source": [
        "## Extract artist name"
      ],
      "metadata": {
        "id": "0AouTAOsKafi"
      }
    },
    {
      "cell_type": "code",
      "source": [
        "from pyspark.sql.functions import split, regexp_replace, explode\n",
        "\n",
        "\n",
        "df_exploded = df.withColumn(\"artist_array\", split(regexp_replace(\"artists\", r\"[\\[\\]']\", \"\"), \", \"))\n",
        "df_exploded = df_exploded.withColumn(\"artist\", explode(\"artist_array\"))\n"
      ],
      "metadata": {
        "id": "6EaIIXnmJC9x"
      },
      "execution_count": null,
      "outputs": []
    },
    {
      "cell_type": "code",
      "source": [
        "df_exploded.select(\"artist_array\", \"artist\").show()"
      ],
      "metadata": {
        "colab": {
          "base_uri": "https://localhost:8080/"
        },
        "id": "ipeylHHaJcc-",
        "outputId": "08ed719f-8afa-43a6-bfd2-e32422e1ba0a"
      },
      "execution_count": null,
      "outputs": [
        {
          "output_type": "stream",
          "name": "stdout",
          "text": [
            "+--------------------+-------------------+\n",
            "|        artist_array|             artist|\n",
            "+--------------------+-------------------+\n",
            "|   [Carl Woitschach]|    Carl Woitschach|\n",
            "|[Robert Schumann,...|    Robert Schumann|\n",
            "|[Robert Schumann,...|  Vladimir Horowitz|\n",
            "|[Seweryn Goszczyń...|Seweryn Goszczyński|\n",
            "|  [Francisco Canaro]|   Francisco Canaro|\n",
            "|[Frédéric Chopin,...|    Frédéric Chopin|\n",
            "|[Frédéric Chopin,...|  Vladimir Horowitz|\n",
            "|[Felix Mendelssoh...|  Felix Mendelssohn|\n",
            "|[Felix Mendelssoh...|  Vladimir Horowitz|\n",
            "|[Franz Liszt, Vla...|        Franz Liszt|\n",
            "|[Franz Liszt, Vla...|  Vladimir Horowitz|\n",
            "|   [Carl Woitschach]|    Carl Woitschach|\n",
            "|[Francisco Canaro...|   Francisco Canaro|\n",
            "|[Francisco Canaro...|             Charlo|\n",
            "|[Seweryn Goszczyń...|Seweryn Goszczyński|\n",
            "|[Sergei Rachmanin...|Sergei Rachmaninoff|\n",
            "|[Sergei Rachmanin...|  Vladimir Horowitz|\n",
            "|[Frédéric Chopin,...|    Frédéric Chopin|\n",
            "|[Frédéric Chopin,...|  Vladimir Horowitz|\n",
            "|[Samuel Barber, V...|      Samuel Barber|\n",
            "+--------------------+-------------------+\n",
            "only showing top 20 rows\n",
            "\n"
          ]
        }
      ]
    },
    {
      "cell_type": "markdown",
      "source": [
        "# Explore Data"
      ],
      "metadata": {
        "id": "i2f4lxX_Kquu"
      }
    },
    {
      "cell_type": "code",
      "source": [
        "#Top 20 artist by number of song\n",
        "from pyspark.sql.functions import desc\n",
        "df_exploded.groupBy('artist').count().orderBy(desc('count')).show()"
      ],
      "metadata": {
        "colab": {
          "base_uri": "https://localhost:8080/"
        },
        "id": "X19GyhhTJIeP",
        "outputId": "ebff569a-0183-431e-dec3-6eb9ffc17614"
      },
      "execution_count": null,
      "outputs": [
        {
          "output_type": "stream",
          "name": "stdout",
          "text": [
            "+--------------------+-----+\n",
            "|              artist|count|\n",
            "+--------------------+-----+\n",
            "|    Francisco Canaro| 2234|\n",
            "|    Эрнест Хемингуэй| 1215|\n",
            "|     Frédéric Chopin| 1033|\n",
            "|Ludwig van Beethoven|  935|\n",
            "|Wolfgang Amadeus ...|  904|\n",
            "|Johann Sebastian ...|  838|\n",
            "|   Эрих Мария Ремарк|  781|\n",
            "|       Frank Sinatra|  732|\n",
            "|      Billie Holiday|  680|\n",
            "|    Arturo Toscanini|  628|\n",
            "|     Igor Stravinsky|  623|\n",
            "|     Ignacio Corsini|  620|\n",
            "|   Vladimir Horowitz|  612|\n",
            "|         Johnny Cash|  589|\n",
            "|New York Philharm...|  556|\n",
            "|           Bob Dylan|  553|\n",
            "|  The Rolling Stones|  522|\n",
            "|      The Beach Boys|  503|\n",
            "|     Lata Mangeshkar|  502|\n",
            "|       Elvis Presley|  501|\n",
            "+--------------------+-----+\n",
            "only showing top 20 rows\n",
            "\n"
          ]
        }
      ]
    },
    {
      "cell_type": "code",
      "source": [
        "#Top 20 year with highest song\n",
        "df.groupBy('year').count().orderBy(desc('count')).show()"
      ],
      "metadata": {
        "colab": {
          "base_uri": "https://localhost:8080/"
        },
        "id": "06Jx11igIGQw",
        "outputId": "ad29d8fe-6be0-4675-9499-965590abbdf7"
      },
      "execution_count": null,
      "outputs": [
        {
          "output_type": "stream",
          "name": "stdout",
          "text": [
            "+----+-----+\n",
            "|year|count|\n",
            "+----+-----+\n",
            "|1973| 2000|\n",
            "|1978| 1999|\n",
            "|1976| 1999|\n",
            "|2017| 1999|\n",
            "|1977| 1998|\n",
            "|2018| 1998|\n",
            "|1988| 1998|\n",
            "|1979| 1998|\n",
            "|2019| 1998|\n",
            "|1982| 1998|\n",
            "|1970| 1998|\n",
            "|1987| 1998|\n",
            "|2005| 1998|\n",
            "|1984| 1998|\n",
            "|2010| 1998|\n",
            "|1975| 1997|\n",
            "|2006| 1997|\n",
            "|1992| 1997|\n",
            "|1969| 1997|\n",
            "|1965| 1997|\n",
            "+----+-----+\n",
            "only showing top 20 rows\n",
            "\n"
          ]
        }
      ]
    },
    {
      "cell_type": "code",
      "source": [
        "# Top 20 years with least song\n",
        "df.groupBy('year').count().orderBy('count').show()"
      ],
      "metadata": {
        "colab": {
          "base_uri": "https://localhost:8080/"
        },
        "id": "HXPFvFFEHWAH",
        "outputId": "a9a9ef60-06bf-4692-8ee1-d565022bc010"
      },
      "execution_count": null,
      "outputs": [
        {
          "output_type": "stream",
          "name": "stdout",
          "text": [
            "+----+-----+\n",
            "|year|count|\n",
            "+----+-----+\n",
            "|1922|   72|\n",
            "|1921|  128|\n",
            "|1923|  168|\n",
            "|1924|  237|\n",
            "|1925|  262|\n",
            "|1932|  478|\n",
            "|1934|  550|\n",
            "|1938|  576|\n",
            "|1927|  594|\n",
            "|1931|  595|\n",
            "|1937|  596|\n",
            "|1933|  622|\n",
            "|1943|  628|\n",
            "|1944|  769|\n",
            "|1926|  874|\n",
            "|1929|  924|\n",
            "|1941|  956|\n",
            "|1939|  999|\n",
            "|1936| 1046|\n",
            "|1928| 1182|\n",
            "+----+-----+\n",
            "only showing top 20 rows\n",
            "\n"
          ]
        }
      ]
    },
    {
      "cell_type": "code",
      "source": [
        "# Number of artist\n",
        "df_exploded.select(\"artist\").distinct().count()"
      ],
      "metadata": {
        "colab": {
          "base_uri": "https://localhost:8080/"
        },
        "id": "7q8aPYM-KzC0",
        "outputId": "fdb45f4f-95ee-43e4-89c8-d647a13ab11c"
      },
      "execution_count": null,
      "outputs": [
        {
          "output_type": "execute_result",
          "data": {
            "text/plain": [
              "27389"
            ]
          },
          "metadata": {},
          "execution_count": 24
        }
      ]
    },
    {
      "cell_type": "code",
      "source": [
        "# Average songs of each artist\n",
        "from pyspark.sql.functions import count, avg\n",
        "artist_song_counts = df_exploded.groupBy(\"artist\").agg(count(\"id\").alias(\"num_songs\"))\n",
        "artist_song_counts.agg(avg(\"num_songs\")).show()"
      ],
      "metadata": {
        "colab": {
          "base_uri": "https://localhost:8080/"
        },
        "id": "oNbiYXCOLiDN",
        "outputId": "a4fdd077-e857-4686-dd41-96f6cf838e87"
      },
      "execution_count": null,
      "outputs": [
        {
          "output_type": "stream",
          "name": "stdout",
          "text": [
            "+-----------------+\n",
            "|   avg(num_songs)|\n",
            "+-----------------+\n",
            "|8.036730074117346|\n",
            "+-----------------+\n",
            "\n"
          ]
        }
      ]
    },
    {
      "cell_type": "code",
      "source": [
        "# Average songs over the year\n",
        "year_song_counts = df.groupBy(\"year\").agg(count(\"name\").alias(\"num_songs\"))\n",
        "year_song_counts.agg(avg(\"num_songs\")).show()"
      ],
      "metadata": {
        "colab": {
          "base_uri": "https://localhost:8080/"
        },
        "id": "An4Sg1P0MHU1",
        "outputId": "e5391931-cfa7-4c57-923d-da7d7fdac423"
      },
      "execution_count": null,
      "outputs": [
        {
          "output_type": "stream",
          "name": "stdout",
          "text": [
            "+--------------+\n",
            "|avg(num_songs)|\n",
            "+--------------+\n",
            "|       1684.62|\n",
            "+--------------+\n",
            "\n"
          ]
        }
      ]
    },
    {
      "cell_type": "code",
      "source": [
        "# Total song\n",
        "df.count()"
      ],
      "metadata": {
        "colab": {
          "base_uri": "https://localhost:8080/"
        },
        "id": "lA_rTy5bNqp0",
        "outputId": "d638b35a-afce-4e7a-c9d8-7abcab33a30a"
      },
      "execution_count": null,
      "outputs": [
        {
          "output_type": "execute_result",
          "data": {
            "text/plain": [
              "168462"
            ]
          },
          "metadata": {},
          "execution_count": 27
        }
      ]
    },
    {
      "cell_type": "code",
      "source": [
        "# Song release in recent years\n",
        "df.groupBy('year').count().orderBy(desc('year')).show()"
      ],
      "metadata": {
        "colab": {
          "base_uri": "https://localhost:8080/"
        },
        "id": "_dYp5JQyNueS",
        "outputId": "05c71e0c-14ee-4c7e-b067-6ddbe2be2cf7"
      },
      "execution_count": null,
      "outputs": [
        {
          "output_type": "stream",
          "name": "stdout",
          "text": [
            "+----+-----+\n",
            "|year|count|\n",
            "+----+-----+\n",
            "|2020| 1752|\n",
            "|2019| 1998|\n",
            "|2018| 1998|\n",
            "|2017| 1999|\n",
            "|2016| 1963|\n",
            "|2015| 1929|\n",
            "|2014| 1996|\n",
            "|2013| 1995|\n",
            "|2012| 1997|\n",
            "|2011| 1993|\n",
            "|2010| 1998|\n",
            "|2009| 1991|\n",
            "|2008| 1993|\n",
            "|2007| 1981|\n",
            "|2006| 1997|\n",
            "|2005| 1998|\n",
            "|2004| 1989|\n",
            "|2003| 1994|\n",
            "|2002| 1990|\n",
            "|2001| 1992|\n",
            "+----+-----+\n",
            "only showing top 20 rows\n",
            "\n"
          ]
        }
      ]
    },
    {
      "cell_type": "markdown",
      "source": [
        "# Save result after clean"
      ],
      "metadata": {
        "id": "vEyk0ZBUcD6Y"
      }
    },
    {
      "cell_type": "code",
      "source": [
        "df_exploded2 = df_exploded.drop('artist_array')"
      ],
      "metadata": {
        "id": "SotG89HOdnxS"
      },
      "execution_count": null,
      "outputs": []
    },
    {
      "cell_type": "code",
      "source": [
        "# Save result after clean\n",
        "df.write.csv(\"spotify_clean\", header=True)\n",
        "df_exploded2.write.csv(\"spotify_artist_clean\", header=True)\n"
      ],
      "metadata": {
        "id": "VrDeLuNicBe7"
      },
      "execution_count": null,
      "outputs": []
    },
    {
      "cell_type": "markdown",
      "source": [
        "# Machine Learning"
      ],
      "metadata": {
        "id": "1N-tb1m8N-Ft"
      }
    },
    {
      "cell_type": "code",
      "source": [
        "df.show()"
      ],
      "metadata": {
        "colab": {
          "base_uri": "https://localhost:8080/"
        },
        "id": "4q-5JAQ0OAwY",
        "outputId": "886adaa7-2d71-42c5-969f-a5bebd0b2639"
      },
      "execution_count": null,
      "outputs": [
        {
          "output_type": "stream",
          "name": "stdout",
          "text": [
            "+--------------------+--------------------+--------------------+-----------+------------+----+------------+------------+-------+----------------+--------+--------+-----------+-------+-------+----+---+----------+--------+\n",
            "|                  id|                name|             artists|duration_ms|release_date|year|acousticness|danceability| energy|instrumentalness|liveness|loudness|speechiness|  tempo|valence|mode|key|popularity|explicit|\n",
            "+--------------------+--------------------+--------------------+-----------+------------+----+------------+------------+-------+----------------+--------+--------+-----------+-------+-------+----+---+----------+--------+\n",
            "|6KbQ3uYMLKb5jDxLF...|Singende Bataillo...| ['Carl Woitschach']|     158648|        1928|1928|       0.995|       0.708|  0.195|           0.563|   0.151| -12.428|     0.0506|118.469|  0.779|   1| 10|         0|       0|\n",
            "|6KuQTIu1KoTTkLXKr...|Fantasiestücke, O...|['Robert Schumann...|     282133|        1928|1928|       0.994|       0.379| 0.0135|           0.901|  0.0763| -28.454|     0.0462| 83.972| 0.0767|   1|  8|         0|       0|\n",
            "|6L63VW0PibdM1HDSB...|Chapter 1.18 - Za...|['Seweryn Goszczy...|     104300|        1928|1928|       0.604|       0.749|   0.22|             0.0|   0.119| -19.924|      0.929|107.177|   0.88|   0|  5|         0|       0|\n",
            "|6M94FkXd15sOAOQYR...|Bebamos Juntos - ...|['Francisco Canaro']|     180760|     9/25/28|1928|       0.995|       0.781|   0.13|           0.887|   0.111| -14.734|     0.0926|108.003|   0.72|   0|  1|         0|       0|\n",
            "|6N6tiFZ9vLTSOIxkj...|Polonaise-Fantais...|['Frédéric Chopin...|     687733|        1928|1928|        0.99|        0.21|  0.204|           0.908|   0.098| -16.829|     0.0424| 62.149| 0.0693|   1| 11|         1|       0|\n",
            "|6NxAf7M8DNHOBTmEd...|Scherzo a capricc...|['Felix Mendelsso...|     352600|        1928|1928|       0.995|       0.424|   0.12|           0.911|  0.0915| -19.242|     0.0593| 63.521|  0.266|   0|  6|         0|       0|\n",
            "|6O0puPuyrxPjDTHDU...|Valse oubliée No....|['Franz Liszt', '...|     136627|        1928|1928|       0.956|       0.444|  0.197|           0.435|  0.0744| -17.226|       0.04| 80.495|  0.305|   1| 11|         0|       0|\n",
            "|6OJjveoYwJdIt76y0...| Per aspera ad astra| ['Carl Woitschach']|     153967|        1928|1928|       0.988|       0.555|  0.421|           0.836|   0.105|  -9.878|     0.0474| 123.31|  0.857|   1|  1|         0|       0|\n",
            "|6OaJ8Bh7lsBeYoBmw...|Moneda Corriente ...|['Francisco Canar...|     162493|     10/3/28|1928|       0.995|       0.683|  0.207|           0.206|   0.337|  -9.801|      0.127|119.833|  0.493|   0|  9|         0|       0|\n",
            "|6PrZexNb16cabXR8Q...|Chapter 1.3 - Zam...|['Seweryn Goszczy...|     111600|        1928|1928|       0.846|       0.674|  0.205|             0.0|    0.17| -20.119|      0.954| 81.249|  0.759|   1|  9|         0|       0|\n",
            "|6QBInZBkQNIQYU9gG...|Piano Sonata No. ...|['Sergei Rachmani...|     590293|        1928|1928|       0.994|       0.376| 0.0719|           0.883|   0.196| -21.849|     0.0352| 141.39| 0.0393|   0| 10|         0|       0|\n",
            "|6QIONtzbQCbnmWNwn...|Piano Sonata No. ...|['Frédéric Chopin...|      85133|        1928|1928|       0.989|        0.17| 0.0823|           0.911|  0.0962| -30.107|     0.0317| 85.989|  0.346|   0| 10|         1|       0|\n",
            "|6QgdUySTRGVkNo3Kw...|Piano Sonata in E...|['Samuel Barber',...|     338333|        1928|1928|        0.99|       0.359| 0.0435|           0.899|   0.109| -20.858|     0.0424| 96.645|  0.042|   1|  7|         0|       0|\n",
            "|6RvSNoCPBZeTR2LyG...|Nachtstücke, Op. ...|['Robert Schumann...|     167333|        1928|1928|       0.992|       0.311| 0.0107|           0.883|  0.0954| -35.648|     0.0556|  78.98|  0.216|   1|  5|         0|       0|\n",
            "|6Rwn56jcC0TdGQzbR...|Symphony No. 5 in...|['Ludwig van Beet...|     276563|      1/1/28|1928|       0.977|       0.335|  0.105|            0.84|   0.231| -16.049|     0.0716| 80.204|  0.406|   0|  5|         0|       0|\n",
            "|6Sdpmree8xpGWaedA...|A Shropshire Lad:...|['George Butterwo...|     184840|        1928|1928|       0.991|       0.319|0.00593|         6.35E-5|  0.0691| -25.789|      0.051| 79.831|  0.169|   0|  7|         0|       0|\n",
            "|6T0mZB7p3qzOifdXZ...|Sonata No. 3, Op....|['Alexander Scria...|     326067|        1928|1928|       0.996|       0.319|  0.155|           0.917|   0.126| -18.728|      0.036| 66.947| 0.0488|   1|  4|         0|       0|\n",
            "|6TFuAErGpJ9FpxQQ1...|Invocación al Tan...|['Francisco Canar...|     167107|     9/16/28|1928|       0.994|       0.787|  0.156|           0.659|    0.11| -14.056|      0.157|117.167|  0.849|   0|  4|         0|       0|\n",
            "|6UUfiNT82MWBNnmsE...| Where the Bee Sucks|['Thomas Arne', '...|     122533|        1928|1928|       0.993|       0.569|   0.15|          0.0015|   0.106| -15.238|     0.0474|  76.93|  0.596|   1|  5|         0|       0|\n",
            "|6Ukl7n0q3Cjd0Og8u...|Tendrás Que Llora...|['Francisco Canaro']|     173707|     9/17/28|1928|       0.992|       0.763|  0.132|          0.0693|   0.112| -13.002|     0.0886|111.679|  0.832|   1|  4|         0|       0|\n",
            "+--------------------+--------------------+--------------------+-----------+------------+----+------------+------------+-------+----------------+--------+--------+-----------+-------+-------+----+---+----------+--------+\n",
            "only showing top 20 rows\n",
            "\n"
          ]
        }
      ]
    },
    {
      "cell_type": "markdown",
      "source": [
        "#Regression to predict duration_ms"
      ],
      "metadata": {
        "id": "6cG3iahDPsiR"
      }
    },
    {
      "cell_type": "markdown",
      "source": [
        "## Attribute Selection"
      ],
      "metadata": {
        "id": "HpHJe264P0zF"
      }
    },
    {
      "cell_type": "code",
      "source": [
        "df_select = df.select('year','acousticness','danceability','energy','instrumentalness','liveness','loudness','speechiness','tempo','valence','mode','key','explicit','duration_ms','popularity')"
      ],
      "metadata": {
        "id": "2BTKF3mbPyYd"
      },
      "execution_count": null,
      "outputs": []
    },
    {
      "cell_type": "code",
      "source": [
        "#Check correlation\n",
        "features = df_select.columns[:-1]\n",
        "\n",
        "for col in features:\n",
        "    corr = df.stat.corr(col, \"popularity\")\n",
        "    print(f\"Correlation between {col} and popularity: {corr:.4f}\")"
      ],
      "metadata": {
        "colab": {
          "base_uri": "https://localhost:8080/"
        },
        "id": "bZmv5DpCTiXu",
        "outputId": "6dd3f6f9-4ce6-49c0-d037-b9f1d80b1e00"
      },
      "execution_count": null,
      "outputs": [
        {
          "output_type": "stream",
          "name": "stdout",
          "text": [
            "Correlation between year and popularity: 0.8801\n",
            "Correlation between acousticness and popularity: -0.5897\n",
            "Correlation between danceability and popularity: 0.2142\n",
            "Correlation between energy and popularity: 0.4937\n",
            "Correlation between instrumentalness and popularity: -0.3030\n",
            "Correlation between liveness and popularity: -0.0739\n",
            "Correlation between loudness and popularity: 0.4637\n",
            "Correlation between speechiness and popularity: -0.1375\n",
            "Correlation between tempo and popularity: 0.1318\n",
            "Correlation between valence and popularity: -0.0011\n",
            "Correlation between mode and popularity: -0.0325\n",
            "Correlation between key and popularity: 0.0099\n",
            "Correlation between explicit and popularity: 0.2127\n",
            "Correlation between duration_ms and popularity: 0.0650\n"
          ]
        }
      ]
    },
    {
      "cell_type": "code",
      "source": [
        "from pyspark.sql import DataFrameNaFunctions\n",
        "from pyspark.ml.feature import StringIndexer\n",
        "from pyspark.ml.feature import VectorAssembler, StringIndexer, VectorIndexer, StandardScaler\n",
        "from pyspark.ml.regression import LinearRegression\n",
        "from pyspark.ml.classification import LogisticRegression,DecisionTreeClassifier\n",
        "from pyspark.ml.evaluation import BinaryClassificationEvaluator"
      ],
      "metadata": {
        "id": "F3Z9ZB7kPw0F"
      },
      "execution_count": null,
      "outputs": []
    },
    {
      "cell_type": "code",
      "source": [
        "df_select = df.select('year','acousticness','danceability','energy','instrumentalness','loudness','tempo','explicit','popularity')"
      ],
      "metadata": {
        "id": "OJ0sh9yoUqv5"
      },
      "execution_count": null,
      "outputs": []
    },
    {
      "cell_type": "code",
      "source": [
        "featureColumns = df_select.columns[:-1]"
      ],
      "metadata": {
        "id": "zHWHvzPXQllW"
      },
      "execution_count": null,
      "outputs": []
    },
    {
      "cell_type": "code",
      "source": [
        "featureColumns"
      ],
      "metadata": {
        "colab": {
          "base_uri": "https://localhost:8080/"
        },
        "id": "--JydP3hSGWm",
        "outputId": "9c6f88fd-07f6-4ffb-8c9c-d04db365c0c3"
      },
      "execution_count": null,
      "outputs": [
        {
          "output_type": "execute_result",
          "data": {
            "text/plain": [
              "['year',\n",
              " 'acousticness',\n",
              " 'danceability',\n",
              " 'energy',\n",
              " 'instrumentalness',\n",
              " 'loudness',\n",
              " 'tempo',\n",
              " 'explicit']"
            ]
          },
          "metadata": {},
          "execution_count": 37
        }
      ]
    },
    {
      "cell_type": "code",
      "source": [
        "(trainData, testData) = df_select.randomSplit([0.8,0.2], seed = 13234 )"
      ],
      "metadata": {
        "id": "4trMLxs1RseH"
      },
      "execution_count": null,
      "outputs": []
    },
    {
      "cell_type": "code",
      "source": [
        "assembler = VectorAssembler(inputCols=featureColumns, outputCol=\"features\")\n",
        "scaler = StandardScaler(inputCol = 'features',outputCol='scaledFeatures',withStd=True,withMean=False)"
      ],
      "metadata": {
        "id": "4drdGXGtQp-N"
      },
      "execution_count": null,
      "outputs": []
    },
    {
      "cell_type": "code",
      "source": [
        "lr = LinearRegression(featuresCol=\"scaledFeatures\", labelCol=\"popularity\")"
      ],
      "metadata": {
        "id": "KRPKbyhVQxBv"
      },
      "execution_count": null,
      "outputs": []
    },
    {
      "cell_type": "code",
      "source": [
        "from pyspark.ml import Pipeline\n",
        "pipeline = Pipeline(stages=[assembler,scaler,lr])"
      ],
      "metadata": {
        "id": "FihgDi5ORHsb"
      },
      "execution_count": null,
      "outputs": []
    },
    {
      "cell_type": "code",
      "source": [
        "from pyspark.ml.tuning import CrossValidator, ParamGridBuilder\n",
        "paramGrid = ParamGridBuilder() \\\n",
        "    .addGrid(lr.fitIntercept, [False, True]) \\\n",
        "    .addGrid(lr.maxIter, [5, 10, 20]) \\\n",
        "    .build()"
      ],
      "metadata": {
        "id": "MBPBto76RLQW"
      },
      "execution_count": null,
      "outputs": []
    },
    {
      "cell_type": "code",
      "source": [
        "from pyspark.ml.evaluation import RegressionEvaluator\n",
        "crossval = CrossValidator(estimator=pipeline,\n",
        "                          estimatorParamMaps=paramGrid,\n",
        "                          evaluator=RegressionEvaluator(labelCol=\"popularity\", metricName=\"rmse\"),\n",
        "                          numFolds=5)\n",
        "cvModel = crossval.fit(trainData)"
      ],
      "metadata": {
        "id": "M6J5z5-0RY3A"
      },
      "execution_count": null,
      "outputs": []
    },
    {
      "cell_type": "code",
      "source": [
        "predictions =  cvModel.transform(testData)"
      ],
      "metadata": {
        "id": "ybfN5NgsTNX0"
      },
      "execution_count": null,
      "outputs": []
    },
    {
      "cell_type": "code",
      "source": [
        "rmse_evaluator = RegressionEvaluator(labelCol=\"popularity\", metricName=\"rmse\")\n",
        "r2_evaluator = RegressionEvaluator(labelCol=\"popularity\", metricName=\"r2\")\n",
        "rmse = rmse_evaluator.evaluate(predictions)\n",
        "r2 = r2_evaluator.evaluate(predictions)\n",
        "\n",
        "# Print the results\n",
        "print(f\"Root Mean Squared Error (RMSE): {rmse}\")\n",
        "print(f\"R-squared (R2): {r2}\")"
      ],
      "metadata": {
        "colab": {
          "base_uri": "https://localhost:8080/"
        },
        "id": "l1L8LeWZRf4J",
        "outputId": "d8297aca-a02b-464b-a3bc-aade14f48a93"
      },
      "execution_count": null,
      "outputs": [
        {
          "output_type": "stream",
          "name": "stdout",
          "text": [
            "Root Mean Squared Error (RMSE): 10.040384945080456\n",
            "R-squared (R2): 0.7813629999625085\n"
          ]
        }
      ]
    },
    {
      "cell_type": "markdown",
      "source": [
        "# Classification"
      ],
      "metadata": {
        "id": "fwuDL8q9W-3-"
      }
    },
    {
      "cell_type": "code",
      "source": [
        "df.groupBy('mode').count().show()"
      ],
      "metadata": {
        "colab": {
          "base_uri": "https://localhost:8080/"
        },
        "id": "n3sTbGj3PDj0",
        "outputId": "71648fb9-66f6-4eef-a3ad-951cdd39c6dd"
      },
      "execution_count": null,
      "outputs": [
        {
          "output_type": "stream",
          "name": "stdout",
          "text": [
            "+----+------+\n",
            "|mode| count|\n",
            "+----+------+\n",
            "|   1|119326|\n",
            "|   0| 49136|\n",
            "+----+------+\n",
            "\n"
          ]
        }
      ]
    },
    {
      "cell_type": "markdown",
      "source": [
        "# Attribute Selection"
      ],
      "metadata": {
        "id": "hjKMBbiuXlMt"
      }
    },
    {
      "cell_type": "code",
      "source": [
        "df_select = df.select('year','acousticness','danceability','energy','instrumentalness','liveness','loudness','speechiness','tempo','valence','key','duration_ms','popularity','mode','explicit')\n",
        "features = df_select.columns[:-1]\n",
        "\n",
        "for col in features:\n",
        "    corr = df.stat.corr(col, \"explicit\")\n",
        "    print(f\"Correlation between {col} and explicit: {corr:.4f}\")"
      ],
      "metadata": {
        "colab": {
          "base_uri": "https://localhost:8080/"
        },
        "id": "Hzx4Y9hZX27x",
        "outputId": "2abcb6f3-e7e8-4571-8e31-8390e0086aa4"
      },
      "execution_count": null,
      "outputs": [
        {
          "output_type": "stream",
          "name": "stdout",
          "text": [
            "Correlation between year and explicit: 0.2440\n",
            "Correlation between acousticness and explicit: -0.2524\n",
            "Correlation between danceability and explicit: 0.2410\n",
            "Correlation between energy and explicit: 0.1410\n",
            "Correlation between instrumentalness and explicit: -0.1387\n",
            "Correlation between liveness and explicit: 0.0401\n",
            "Correlation between loudness and explicit: 0.1513\n",
            "Correlation between speechiness and explicit: 0.4141\n",
            "Correlation between tempo and explicit: 0.0105\n",
            "Correlation between valence and explicit: -0.0251\n",
            "Correlation between key and explicit: 0.0086\n",
            "Correlation between duration_ms and explicit: -0.0443\n",
            "Correlation between popularity and explicit: 0.2127\n",
            "Correlation between mode and explicit: -0.0832\n"
          ]
        }
      ]
    },
    {
      "cell_type": "code",
      "source": [
        "df_select = df.select('year','acousticness','danceability','energy','instrumentalness','loudness','speechiness','popularity','explicit')"
      ],
      "metadata": {
        "id": "Hz_RfLgWYMDF"
      },
      "execution_count": null,
      "outputs": []
    },
    {
      "cell_type": "code",
      "source": [
        "featureColumns = df_select.columns[:-1]"
      ],
      "metadata": {
        "id": "n1xEbQNdYef8"
      },
      "execution_count": null,
      "outputs": []
    },
    {
      "cell_type": "code",
      "source": [
        "featureColumns"
      ],
      "metadata": {
        "colab": {
          "base_uri": "https://localhost:8080/"
        },
        "id": "rgbxU7FpYiHa",
        "outputId": "10c921b7-9c8c-402d-9c7e-521764f5e99f"
      },
      "execution_count": null,
      "outputs": [
        {
          "output_type": "execute_result",
          "data": {
            "text/plain": [
              "['year',\n",
              " 'acousticness',\n",
              " 'danceability',\n",
              " 'energy',\n",
              " 'instrumentalness',\n",
              " 'loudness',\n",
              " 'speechiness',\n",
              " 'popularity']"
            ]
          },
          "metadata": {},
          "execution_count": 50
        }
      ]
    },
    {
      "cell_type": "code",
      "source": [
        "(trainData, testData) = df_select.randomSplit([0.8,0.2], seed = 13234 )"
      ],
      "metadata": {
        "id": "Xr1XtLUXZsN0"
      },
      "execution_count": null,
      "outputs": []
    },
    {
      "cell_type": "code",
      "source": [
        "assembler = VectorAssembler(inputCols=featureColumns, outputCol=\"features\")\n",
        "scaler = StandardScaler(inputCol = 'features',outputCol='scaledFeatures',withStd=True,withMean=False)"
      ],
      "metadata": {
        "id": "6zvOT92FaFPK"
      },
      "execution_count": null,
      "outputs": []
    },
    {
      "cell_type": "code",
      "source": [
        "lr = LogisticRegression(featuresCol=\"scaledFeatures\", labelCol=\"explicit\")"
      ],
      "metadata": {
        "id": "2OIb1UnlYjTp"
      },
      "execution_count": null,
      "outputs": []
    },
    {
      "cell_type": "code",
      "source": [
        "from pyspark.ml import Pipeline\n",
        "pipeline = Pipeline(stages=[assembler,scaler,lr])"
      ],
      "metadata": {
        "id": "QsvkWhn6Yl-r"
      },
      "execution_count": null,
      "outputs": []
    },
    {
      "cell_type": "code",
      "source": [
        "paramGrid = ParamGridBuilder() \\\n",
        "    .addGrid(lr.fitIntercept, [False, True]) \\\n",
        "    .addGrid(lr.maxIter, [5, 10,20]) \\\n",
        "    .build()"
      ],
      "metadata": {
        "id": "WnI6-WQCYvzN"
      },
      "execution_count": null,
      "outputs": []
    },
    {
      "cell_type": "code",
      "source": [
        "from pyspark.ml.evaluation import MulticlassClassificationEvaluator\n",
        "crossval = CrossValidator(estimator=pipeline,\n",
        "                          estimatorParamMaps=paramGrid,\n",
        "                          evaluator = MulticlassClassificationEvaluator(labelCol=\"explicit\", predictionCol=\"prediction\", metricName=\"accuracy\"),\n",
        "                          numFolds=5)\n",
        "cvModel = crossval.fit(trainData)"
      ],
      "metadata": {
        "id": "k2CzMjbGYxgo"
      },
      "execution_count": null,
      "outputs": []
    },
    {
      "cell_type": "code",
      "source": [
        "predictions = cvModel.transform(testData)"
      ],
      "metadata": {
        "id": "IXNb9vCiY072"
      },
      "execution_count": null,
      "outputs": []
    },
    {
      "cell_type": "code",
      "source": [
        "def evaluate(result):\n",
        "    predictionAndLabels = result.select(\"prediction\", \"explicit\")\n",
        "    metrics = [\"f1\", \"precisionByLabel\", \"recallByLabel\", \"weightedPrecision\", \"weightedRecall\", \"accuracy\"]\n",
        "    for m in metrics:\n",
        "        evaluator = MulticlassClassificationEvaluator(labelCol=\"explicit\", predictionCol=\"prediction\", metricName=m)\n",
        "        print(f\"{m}: {evaluator.evaluate(predictionAndLabels):.4f}\")\n"
      ],
      "metadata": {
        "id": "Bw1x-P4GaVhn"
      },
      "execution_count": null,
      "outputs": []
    },
    {
      "cell_type": "code",
      "source": [
        "evaluate(predictions)"
      ],
      "metadata": {
        "colab": {
          "base_uri": "https://localhost:8080/"
        },
        "id": "qlTZ2wRwa1Rh",
        "outputId": "7e4bf9e8-cbc3-4f85-cacb-fdba6670d288"
      },
      "execution_count": null,
      "outputs": [
        {
          "output_type": "stream",
          "name": "stdout",
          "text": [
            "f1: 0.9334\n",
            "precisionByLabel: 0.9522\n",
            "recallByLabel: 0.9834\n",
            "weightedPrecision: 0.9325\n",
            "weightedRecall: 0.9395\n",
            "accuracy: 0.9395\n"
          ]
        }
      ]
    },
    {
      "cell_type": "code",
      "source": [
        "sc.stop()"
      ],
      "metadata": {
        "id": "spyXlsstfn19"
      },
      "execution_count": null,
      "outputs": []
    }
  ]
}